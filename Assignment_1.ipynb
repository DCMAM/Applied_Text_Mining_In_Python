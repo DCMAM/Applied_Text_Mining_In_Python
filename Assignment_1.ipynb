{
 "cells": [
  {
   "cell_type": "code",
   "execution_count": 1,
   "metadata": {},
   "outputs": [
    {
     "data": {
      "text/plain": [
       "0         03/25/93 Total time of visit (in minutes):\\n\n",
       "1                       6/18/85 Primary Care Doctor:\\n\n",
       "2    sshe plans to move as of 7/8/71 In-Home Servic...\n",
       "3                7 on 9/27/75 Audit C Score Current:\\n\n",
       "4    2/6/96 sleep studyPain Treatment Pain Level (N...\n",
       "5                    .Per 7/06/79 Movement D/O note:\\n\n",
       "6    4, 5/18/78 Patient's thoughts about current su...\n",
       "7    10/24/89 CPT Code: 90801 - Psychiatric Diagnos...\n",
       "8                         3/7/86 SOS-10 Total Score:\\n\n",
       "9             (4/10/71)Score-1Audit C Score Current:\\n\n",
       "dtype: object"
      ]
     },
     "execution_count": 1,
     "metadata": {},
     "output_type": "execute_result"
    }
   ],
   "source": [
    "import pandas as pd\n",
    "\n",
    "doc = []\n",
    "with open('dates.txt') as file:\n",
    "    for line in file:\n",
    "        doc.append(line)\n",
    "\n",
    "df = pd.Series(doc)\n",
    "df.head(10)"
   ]
  },
  {
   "cell_type": "code",
   "execution_count": 11,
   "metadata": {},
   "outputs": [
    {
     "data": {
      "text/plain": [
       "0        9\n",
       "1       84\n",
       "2        2\n",
       "3       53\n",
       "4       28\n",
       "5      474\n",
       "6      153\n",
       "7       13\n",
       "8      129\n",
       "9       98\n",
       "10     111\n",
       "11     225\n",
       "12      31\n",
       "13     171\n",
       "14     191\n",
       "15     486\n",
       "16     335\n",
       "17     415\n",
       "18      36\n",
       "19     323\n",
       "20     405\n",
       "21     422\n",
       "22     375\n",
       "23     380\n",
       "24     345\n",
       "25      57\n",
       "26     481\n",
       "27     436\n",
       "28     104\n",
       "29     299\n",
       "      ... \n",
       "470    220\n",
       "471    208\n",
       "472    243\n",
       "473    139\n",
       "474    320\n",
       "475    383\n",
       "476    244\n",
       "477    286\n",
       "478    480\n",
       "479    431\n",
       "480    279\n",
       "481    198\n",
       "482    381\n",
       "483    463\n",
       "484    366\n",
       "485    255\n",
       "486    439\n",
       "487    401\n",
       "488    475\n",
       "489    257\n",
       "490    152\n",
       "491    235\n",
       "492    464\n",
       "493    253\n",
       "494    231\n",
       "495    427\n",
       "496    141\n",
       "497    186\n",
       "498    161\n",
       "499    413\n",
       "Length: 500, dtype: int64"
      ]
     },
     "execution_count": 11,
     "metadata": {},
     "output_type": "execute_result"
    }
   ],
   "source": [
    "def date_sorter():\n",
    "    import re\n",
    "    import dateutil.parser\n",
    "    from calendar import month_name\n",
    "    from datetime import datetime\n",
    "    \n",
    "    # data cleaning\n",
    "    df = pd.DataFrame(doc, columns=['text'])\n",
    "    pattern = \"[,.]? \\d{4}|\".join(month_name[1:]) + \"[,.]? \\d{4}\";\n",
    "\n",
    "    df['text'] = df['text'].apply(lambda x: x.strip('\\n'))\n",
    "\n",
    "    df['date'] = df['text'].apply(lambda x:re.findall(r'\\d{1,2}\\/\\d{1,2}\\/\\d{2,4}|\\d{1,2}\\-\\d{1,2}\\-\\d{2,4}|[A-Z][a-z]+\\-\\d{1,2}\\-\\d{4}|[A-Z][a-z]+[,.]? \\d{2}[a-z]*,? \\d{4}|\\d{1,2} [A-Z][a-z,.]+ \\d{4}|[A-Z][a-z]{2}[,.]? \\d{4}|'+pattern+r'|\\d{1,2}\\/\\d{4}|\\d{4}', x))\n",
    "    df['date'][271] = [df['date'][271][1]]\n",
    "    df['date'] = df['date'].apply(lambda x: x[0])\n",
    "    df['date'][461] = re.findall(r'\\d{4}',df['date'][461])[0]\n",
    "    df['date'][465] = re.findall(r'\\d{4}',df['date'][465])[0]\n",
    "\n",
    "    date_list = list(df['date'])\n",
    "\n",
    "    i=0\n",
    "    for year in date_list:\n",
    "        if(re.match(r'\\d{4}', year)) :\n",
    "            date_list[i] = 'January 1, '+ date_list[i]\n",
    "            year = date_list[i]\n",
    "        elif (re.match(r'\\d{1,2}\\/\\d{4}', year)) :\n",
    "            date_split = year.split('/')\n",
    "            date_list[i] = date_split[0] + '/1/'+ date_split[1]\n",
    "            year = date_list[i]\n",
    "        elif(re.match(r'[A-Z][a-z]+[,.]? \\d{4}', year)) :\n",
    "            date_split = year.split(' ')\n",
    "            date_list[i] = date_split[0] + ' 1 '+ date_split[1]\n",
    "            year = date_list[i]\n",
    "        date_list[i] = dateutil.parser.parse(date_list[i]).strftime(\"%m/%d/%Y\")\n",
    "        i = i+1\n",
    "    \n",
    "    df['date'] = date_list\n",
    "    fun = lambda date: datetime.strptime(date, \"%m/%d/%Y\")\n",
    "    df['index'] = sorted(range(len(date_list)), key=lambda x : fun(date_list[x]))\n",
    "    df.drop('text', axis=1,inplace=True)\n",
    "    return pd.Series(list(df['index']))   \n",
    "\n",
    "date_sorter()    "
   ]
  }
 ],
 "metadata": {
  "coursera": {
   "course_slug": "python-text-mining",
   "graded_item_id": "LvcWI",
   "launcher_item_id": "krne9",
   "part_id": "Mkp1I"
  },
  "kernelspec": {
   "display_name": "Python 3",
   "language": "python",
   "name": "python3"
  },
  "language_info": {
   "codemirror_mode": {
    "name": "ipython",
    "version": 3
   },
   "file_extension": ".py",
   "mimetype": "text/x-python",
   "name": "python",
   "nbconvert_exporter": "python",
   "pygments_lexer": "ipython3",
   "version": "3.6.2"
  }
 },
 "nbformat": 4,
 "nbformat_minor": 2
}
